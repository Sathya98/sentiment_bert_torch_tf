{
 "cells": [
  {
   "cell_type": "markdown",
   "metadata": {},
   "source": [
    "# Imports"
   ]
  },
  {
   "cell_type": "code",
   "execution_count": 9,
   "metadata": {
    "ExecuteTime": {
     "end_time": "2021-12-17T17:46:12.302896Z",
     "start_time": "2021-12-17T17:46:12.297904Z"
    }
   },
   "outputs": [],
   "source": [
    "import numpy as np\n",
    "import pandas as pd\n",
    "import matplotlib.pyplot as plt\n",
    "from optparse import OptionParser\n",
    "import seaborn as sns\n",
    "from sklearn.metrics import roc_auc_score,accuracy_score,precision_score,recall_score,f1_score\n",
    "import os\n",
    "import gc\n",
    "import re\n",
    "from tqdm import tqdm_notebook as tqdm\n",
    "\n",
    "%matplotlib inline"
   ]
  },
  {
   "cell_type": "code",
   "execution_count": 3,
   "metadata": {
    "ExecuteTime": {
     "end_time": "2021-12-17T14:30:24.032856Z",
     "start_time": "2021-12-17T14:30:23.592031Z"
    }
   },
   "outputs": [],
   "source": [
    "#text processing\n",
    "from nltk.tokenize import WordPunctTokenizer\n",
    "from bs4 import BeautifulSoup\n",
    "import nltk"
   ]
  },
  {
   "cell_type": "code",
   "execution_count": 4,
   "metadata": {
    "ExecuteTime": {
     "end_time": "2021-12-17T14:30:25.873100Z",
     "start_time": "2021-12-17T14:30:24.249152Z"
    }
   },
   "outputs": [],
   "source": [
    "import torch\n",
    "from simpletransformers.classification import ClassificationModel\n",
    "from sklearn.model_selection import StratifiedShuffleSplit"
   ]
  },
  {
   "cell_type": "code",
   "execution_count": null,
   "metadata": {},
   "outputs": [],
   "source": [
    "#tensorflow\n",
    "import tensorflow as tf\n",
    "import tensorflow_hub as hub\n",
    "from official.nlp import optimization\n",
    "import tensorflow_text as text"
   ]
  },
  {
   "cell_type": "markdown",
   "metadata": {},
   "source": [
    "# Utils"
   ]
  },
  {
   "cell_type": "code",
   "execution_count": null,
   "metadata": {},
   "outputs": [],
   "source": []
  },
  {
   "cell_type": "code",
   "execution_count": 6,
   "metadata": {
    "ExecuteTime": {
     "end_time": "2021-12-17T14:14:50.974199Z",
     "start_time": "2021-12-17T14:14:50.970201Z"
    }
   },
   "outputs": [],
   "source": [
    "def sent_trans(x):\n",
    "    temp=[]\n",
    "    for i in x.split():\n",
    "        if (i.startswith('@') or i.startswith('#')):\n",
    "            continue\n",
    "        else:\n",
    "            temp.append(i)\n",
    "    return ' '.join(temp)"
   ]
  },
  {
   "cell_type": "markdown",
   "metadata": {},
   "source": [
    "# Loading data"
   ]
  },
  {
   "cell_type": "markdown",
   "metadata": {},
   "source": [
    "from four sources:\n",
    "- airline tweets\n",
    "- govt tweets\n",
    "- financial news\n",
    "- sentiment140 dataset"
   ]
  },
  {
   "cell_type": "markdown",
   "metadata": {},
   "source": [
    "## Airline"
   ]
  },
  {
   "cell_type": "code",
   "execution_count": 7,
   "metadata": {
    "ExecuteTime": {
     "end_time": "2021-12-17T14:14:52.854405Z",
     "start_time": "2021-12-17T14:14:52.698241Z"
    }
   },
   "outputs": [],
   "source": [
    "airline=pd.read_csv('./../data/airlinetweets.csv')\n",
    "airline=airline[['text','sentiment']]"
   ]
  },
  {
   "cell_type": "code",
   "execution_count": 8,
   "metadata": {
    "ExecuteTime": {
     "end_time": "2021-12-17T14:14:53.483626Z",
     "start_time": "2021-12-17T14:14:53.477675Z"
    }
   },
   "outputs": [],
   "source": [
    "airline['set'] = 'airline'"
   ]
  },
  {
   "cell_type": "code",
   "execution_count": 9,
   "metadata": {
    "ExecuteTime": {
     "end_time": "2021-12-17T14:14:54.911893Z",
     "start_time": "2021-12-17T14:14:54.897787Z"
    }
   },
   "outputs": [
    {
     "data": {
      "text/html": [
       "<div>\n",
       "<style scoped>\n",
       "    .dataframe tbody tr th:only-of-type {\n",
       "        vertical-align: middle;\n",
       "    }\n",
       "\n",
       "    .dataframe tbody tr th {\n",
       "        vertical-align: top;\n",
       "    }\n",
       "\n",
       "    .dataframe thead th {\n",
       "        text-align: right;\n",
       "    }\n",
       "</style>\n",
       "<table border=\"1\" class=\"dataframe\">\n",
       "  <thead>\n",
       "    <tr style=\"text-align: right;\">\n",
       "      <th></th>\n",
       "      <th>text</th>\n",
       "      <th>sentiment</th>\n",
       "      <th>set</th>\n",
       "    </tr>\n",
       "  </thead>\n",
       "  <tbody>\n",
       "    <tr>\n",
       "      <th>0</th>\n",
       "      <td>@VirginAmerica What @dhepburn said.</td>\n",
       "      <td>neutral</td>\n",
       "      <td>airline</td>\n",
       "    </tr>\n",
       "    <tr>\n",
       "      <th>1</th>\n",
       "      <td>@VirginAmerica plus you've added commercials t...</td>\n",
       "      <td>positive</td>\n",
       "      <td>airline</td>\n",
       "    </tr>\n",
       "    <tr>\n",
       "      <th>2</th>\n",
       "      <td>@VirginAmerica I didn't today... Must mean I n...</td>\n",
       "      <td>neutral</td>\n",
       "      <td>airline</td>\n",
       "    </tr>\n",
       "    <tr>\n",
       "      <th>3</th>\n",
       "      <td>@VirginAmerica it's really aggressive to blast...</td>\n",
       "      <td>negative</td>\n",
       "      <td>airline</td>\n",
       "    </tr>\n",
       "    <tr>\n",
       "      <th>4</th>\n",
       "      <td>@VirginAmerica and it's a really big bad thing...</td>\n",
       "      <td>negative</td>\n",
       "      <td>airline</td>\n",
       "    </tr>\n",
       "  </tbody>\n",
       "</table>\n",
       "</div>"
      ],
      "text/plain": [
       "                                                text sentiment      set\n",
       "0                @VirginAmerica What @dhepburn said.   neutral  airline\n",
       "1  @VirginAmerica plus you've added commercials t...  positive  airline\n",
       "2  @VirginAmerica I didn't today... Must mean I n...   neutral  airline\n",
       "3  @VirginAmerica it's really aggressive to blast...  negative  airline\n",
       "4  @VirginAmerica and it's a really big bad thing...  negative  airline"
      ]
     },
     "execution_count": 9,
     "metadata": {},
     "output_type": "execute_result"
    }
   ],
   "source": [
    "airline.head()"
   ]
  },
  {
   "cell_type": "markdown",
   "metadata": {},
   "source": [
    "## Indian Government"
   ]
  },
  {
   "cell_type": "code",
   "execution_count": 10,
   "metadata": {
    "ExecuteTime": {
     "end_time": "2021-12-17T14:14:55.872869Z",
     "start_time": "2021-12-17T14:14:55.529765Z"
    }
   },
   "outputs": [],
   "source": [
    "govt=pd.read_csv('../data/indiangovttweet.csv')\n"
   ]
  },
  {
   "cell_type": "code",
   "execution_count": 11,
   "metadata": {
    "ExecuteTime": {
     "end_time": "2021-12-17T14:14:55.882435Z",
     "start_time": "2021-12-17T14:14:55.877449Z"
    }
   },
   "outputs": [],
   "source": [
    "govt['set'] = 'govt'"
   ]
  },
  {
   "cell_type": "code",
   "execution_count": 12,
   "metadata": {
    "ExecuteTime": {
     "end_time": "2021-12-17T14:14:56.195597Z",
     "start_time": "2021-12-17T14:14:56.187645Z"
    }
   },
   "outputs": [
    {
     "data": {
      "text/html": [
       "<div>\n",
       "<style scoped>\n",
       "    .dataframe tbody tr th:only-of-type {\n",
       "        vertical-align: middle;\n",
       "    }\n",
       "\n",
       "    .dataframe tbody tr th {\n",
       "        vertical-align: top;\n",
       "    }\n",
       "\n",
       "    .dataframe thead th {\n",
       "        text-align: right;\n",
       "    }\n",
       "</style>\n",
       "<table border=\"1\" class=\"dataframe\">\n",
       "  <thead>\n",
       "    <tr style=\"text-align: right;\">\n",
       "      <th></th>\n",
       "      <th>text</th>\n",
       "      <th>sentiment</th>\n",
       "      <th>set</th>\n",
       "    </tr>\n",
       "  </thead>\n",
       "  <tbody>\n",
       "    <tr>\n",
       "      <th>0</th>\n",
       "      <td>when modi promised “minimum government maximum...</td>\n",
       "      <td>-1.0</td>\n",
       "      <td>govt</td>\n",
       "    </tr>\n",
       "    <tr>\n",
       "      <th>1</th>\n",
       "      <td>talk all the nonsense and continue all the dra...</td>\n",
       "      <td>0.0</td>\n",
       "      <td>govt</td>\n",
       "    </tr>\n",
       "    <tr>\n",
       "      <th>2</th>\n",
       "      <td>what did just say vote for modi  welcome bjp t...</td>\n",
       "      <td>1.0</td>\n",
       "      <td>govt</td>\n",
       "    </tr>\n",
       "    <tr>\n",
       "      <th>3</th>\n",
       "      <td>asking his supporters prefix chowkidar their n...</td>\n",
       "      <td>1.0</td>\n",
       "      <td>govt</td>\n",
       "    </tr>\n",
       "    <tr>\n",
       "      <th>4</th>\n",
       "      <td>answer who among these the most powerful world...</td>\n",
       "      <td>1.0</td>\n",
       "      <td>govt</td>\n",
       "    </tr>\n",
       "  </tbody>\n",
       "</table>\n",
       "</div>"
      ],
      "text/plain": [
       "                                                text  sentiment   set\n",
       "0  when modi promised “minimum government maximum...       -1.0  govt\n",
       "1  talk all the nonsense and continue all the dra...        0.0  govt\n",
       "2  what did just say vote for modi  welcome bjp t...        1.0  govt\n",
       "3  asking his supporters prefix chowkidar their n...        1.0  govt\n",
       "4  answer who among these the most powerful world...        1.0  govt"
      ]
     },
     "execution_count": 12,
     "metadata": {},
     "output_type": "execute_result"
    }
   ],
   "source": [
    "govt.head()"
   ]
  },
  {
   "cell_type": "markdown",
   "metadata": {},
   "source": [
    "## Financial"
   ]
  },
  {
   "cell_type": "code",
   "execution_count": 13,
   "metadata": {
    "ExecuteTime": {
     "end_time": "2021-12-17T14:14:56.738340Z",
     "start_time": "2021-12-17T14:14:56.713290Z"
    }
   },
   "outputs": [],
   "source": [
    "financial=pd.read_csv('../data/financialnews.csv',encoding='ISO-8859-1')\n",
    "financial=financial[['text','sentiment']]"
   ]
  },
  {
   "cell_type": "code",
   "execution_count": 14,
   "metadata": {
    "ExecuteTime": {
     "end_time": "2021-12-17T14:14:57.057483Z",
     "start_time": "2021-12-17T14:14:57.053493Z"
    }
   },
   "outputs": [],
   "source": [
    "financial['set'] = 'financial'"
   ]
  },
  {
   "cell_type": "code",
   "execution_count": 15,
   "metadata": {
    "ExecuteTime": {
     "end_time": "2021-12-17T14:14:57.320777Z",
     "start_time": "2021-12-17T14:14:57.309806Z"
    },
    "scrolled": true
   },
   "outputs": [
    {
     "data": {
      "text/html": [
       "<div>\n",
       "<style scoped>\n",
       "    .dataframe tbody tr th:only-of-type {\n",
       "        vertical-align: middle;\n",
       "    }\n",
       "\n",
       "    .dataframe tbody tr th {\n",
       "        vertical-align: top;\n",
       "    }\n",
       "\n",
       "    .dataframe thead th {\n",
       "        text-align: right;\n",
       "    }\n",
       "</style>\n",
       "<table border=\"1\" class=\"dataframe\">\n",
       "  <thead>\n",
       "    <tr style=\"text-align: right;\">\n",
       "      <th></th>\n",
       "      <th>text</th>\n",
       "      <th>sentiment</th>\n",
       "      <th>set</th>\n",
       "    </tr>\n",
       "  </thead>\n",
       "  <tbody>\n",
       "    <tr>\n",
       "      <th>0</th>\n",
       "      <td>According to Gran , the company has no plans t...</td>\n",
       "      <td>neutral</td>\n",
       "      <td>financial</td>\n",
       "    </tr>\n",
       "    <tr>\n",
       "      <th>1</th>\n",
       "      <td>Technopolis plans to develop in stages an area...</td>\n",
       "      <td>neutral</td>\n",
       "      <td>financial</td>\n",
       "    </tr>\n",
       "    <tr>\n",
       "      <th>2</th>\n",
       "      <td>The international electronic industry company ...</td>\n",
       "      <td>negative</td>\n",
       "      <td>financial</td>\n",
       "    </tr>\n",
       "    <tr>\n",
       "      <th>3</th>\n",
       "      <td>With the new production plant the company woul...</td>\n",
       "      <td>positive</td>\n",
       "      <td>financial</td>\n",
       "    </tr>\n",
       "    <tr>\n",
       "      <th>4</th>\n",
       "      <td>According to the company 's updated strategy f...</td>\n",
       "      <td>positive</td>\n",
       "      <td>financial</td>\n",
       "    </tr>\n",
       "    <tr>\n",
       "      <th>...</th>\n",
       "      <td>...</td>\n",
       "      <td>...</td>\n",
       "      <td>...</td>\n",
       "    </tr>\n",
       "    <tr>\n",
       "      <th>4841</th>\n",
       "      <td>LONDON MarketWatch -- Share prices ended lower...</td>\n",
       "      <td>negative</td>\n",
       "      <td>financial</td>\n",
       "    </tr>\n",
       "    <tr>\n",
       "      <th>4842</th>\n",
       "      <td>Rinkuskiai 's beer sales fell by 6.5 per cent ...</td>\n",
       "      <td>neutral</td>\n",
       "      <td>financial</td>\n",
       "    </tr>\n",
       "    <tr>\n",
       "      <th>4843</th>\n",
       "      <td>Operating profit fell to EUR 35.4 mn from EUR ...</td>\n",
       "      <td>negative</td>\n",
       "      <td>financial</td>\n",
       "    </tr>\n",
       "    <tr>\n",
       "      <th>4844</th>\n",
       "      <td>Net sales of the Paper segment decreased to EU...</td>\n",
       "      <td>negative</td>\n",
       "      <td>financial</td>\n",
       "    </tr>\n",
       "    <tr>\n",
       "      <th>4845</th>\n",
       "      <td>Sales in Finland decreased by 10.5 % in Januar...</td>\n",
       "      <td>negative</td>\n",
       "      <td>financial</td>\n",
       "    </tr>\n",
       "  </tbody>\n",
       "</table>\n",
       "<p>4846 rows × 3 columns</p>\n",
       "</div>"
      ],
      "text/plain": [
       "                                                   text sentiment        set\n",
       "0     According to Gran , the company has no plans t...   neutral  financial\n",
       "1     Technopolis plans to develop in stages an area...   neutral  financial\n",
       "2     The international electronic industry company ...  negative  financial\n",
       "3     With the new production plant the company woul...  positive  financial\n",
       "4     According to the company 's updated strategy f...  positive  financial\n",
       "...                                                 ...       ...        ...\n",
       "4841  LONDON MarketWatch -- Share prices ended lower...  negative  financial\n",
       "4842  Rinkuskiai 's beer sales fell by 6.5 per cent ...   neutral  financial\n",
       "4843  Operating profit fell to EUR 35.4 mn from EUR ...  negative  financial\n",
       "4844  Net sales of the Paper segment decreased to EU...  negative  financial\n",
       "4845  Sales in Finland decreased by 10.5 % in Januar...  negative  financial\n",
       "\n",
       "[4846 rows x 3 columns]"
      ]
     },
     "execution_count": 15,
     "metadata": {},
     "output_type": "execute_result"
    }
   ],
   "source": [
    "financial"
   ]
  },
  {
   "cell_type": "code",
   "execution_count": 16,
   "metadata": {
    "ExecuteTime": {
     "end_time": "2021-12-17T14:14:57.581081Z",
     "start_time": "2021-12-17T14:14:57.575097Z"
    },
    "scrolled": true
   },
   "outputs": [
    {
     "name": "stdout",
     "output_type": "stream",
     "text": [
      "(14640, 3) (4846, 3) (162980, 3)\n"
     ]
    }
   ],
   "source": [
    "print(airline.shape,financial.shape,govt.shape)"
   ]
  },
  {
   "cell_type": "markdown",
   "metadata": {},
   "source": [
    "# Join"
   ]
  },
  {
   "cell_type": "code",
   "execution_count": 17,
   "metadata": {
    "ExecuteTime": {
     "end_time": "2021-12-17T14:15:00.089607Z",
     "start_time": "2021-12-17T14:15:00.061645Z"
    }
   },
   "outputs": [],
   "source": [
    "data=pd.concat([airline,govt,financial],axis=0)"
   ]
  },
  {
   "cell_type": "code",
   "execution_count": 18,
   "metadata": {
    "ExecuteTime": {
     "end_time": "2021-12-17T14:15:00.600882Z",
     "start_time": "2021-12-17T14:15:00.565298Z"
    }
   },
   "outputs": [],
   "source": [
    "label_dict={'neutral':0, 'positive':1, 'negative':-1,\n",
    "            '0':0, '1':1, '-1':-1,\n",
    "            0:0, 1:1, -1:-1}\n",
    "data.sentiment=data.sentiment.map(label_dict)"
   ]
  },
  {
   "cell_type": "code",
   "execution_count": 19,
   "metadata": {
    "ExecuteTime": {
     "end_time": "2021-12-17T14:15:00.938962Z",
     "start_time": "2021-12-17T14:15:00.910032Z"
    }
   },
   "outputs": [
    {
     "name": "stdout",
     "output_type": "stream",
     "text": [
      "<class 'pandas.core.frame.DataFrame'>\n",
      "Int64Index: 182466 entries, 0 to 4845\n",
      "Data columns (total 3 columns):\n",
      " #   Column     Non-Null Count   Dtype  \n",
      "---  ------     --------------   -----  \n",
      " 0   text       182462 non-null  object \n",
      " 1   sentiment  182459 non-null  float64\n",
      " 2   set        182466 non-null  object \n",
      "dtypes: float64(1), object(2)\n",
      "memory usage: 5.6+ MB\n"
     ]
    }
   ],
   "source": [
    "data.info()"
   ]
  },
  {
   "cell_type": "code",
   "execution_count": 20,
   "metadata": {
    "ExecuteTime": {
     "end_time": "2021-12-17T14:15:01.807363Z",
     "start_time": "2021-12-17T14:15:01.635653Z"
    }
   },
   "outputs": [
    {
     "name": "stderr",
     "output_type": "stream",
     "text": [
      "C:\\Anaconda3\\envs\\pytorch\\lib\\site-packages\\seaborn\\_decorators.py:36: FutureWarning: Pass the following variable as a keyword arg: x. From version 0.12, the only valid positional argument will be `data`, and passing other arguments without an explicit keyword will result in an error or misinterpretation.\n",
      "  warnings.warn(\n"
     ]
    },
    {
     "data": {
      "text/plain": [
       "<AxesSubplot:xlabel='sentiment', ylabel='count'>"
      ]
     },
     "execution_count": 20,
     "metadata": {},
     "output_type": "execute_result"
    },
    {
     "data": {
      "image/png": "[encoded data removed]",
      "text/plain": [
       "<Figure size 432x288 with 1 Axes>"
      ]
     },
     "metadata": {
      "needs_background": "light"
     },
     "output_type": "display_data"
    }
   ],
   "source": [
    "sns.countplot(data.sentiment)"
   ]
  },
  {
   "cell_type": "markdown",
   "metadata": {},
   "source": [
    "# Cleaning"
   ]
  },
  {
   "cell_type": "markdown",
   "metadata": {},
   "source": [
    "## Converting everything to string"
   ]
  },
  {
   "cell_type": "code",
   "execution_count": 21,
   "metadata": {
    "ExecuteTime": {
     "end_time": "2021-12-17T14:15:04.647280Z",
     "start_time": "2021-12-17T14:15:04.589382Z"
    }
   },
   "outputs": [],
   "source": [
    "data['text'] = data['text'].apply(lambda x: str(x))"
   ]
  },
  {
   "cell_type": "markdown",
   "metadata": {},
   "source": [
    "## Define cleaning function to remove @, useless encoding, and all the numbers and symbols"
   ]
  },
  {
   "cell_type": "code",
   "execution_count": 22,
   "metadata": {
    "ExecuteTime": {
     "end_time": "2021-12-17T14:15:12.696288Z",
     "start_time": "2021-12-17T14:15:12.691301Z"
    }
   },
   "outputs": [],
   "source": [
    "tok = WordPunctTokenizer()\n",
    "pat1 = r'@[A-Za-z0-9]+'\n",
    "pat2 = r'https?://[A-Za-z0-9./]+'\n",
    "combined_pat = r'|'.join((pat1, pat2))\n",
    "\n",
    "def text_cleaner(text):\n",
    "    soup = BeautifulSoup(text, 'lxml')\n",
    "    souped = soup.get_text()\n",
    "    stripped = re.sub(combined_pat, '', souped)\n",
    "    try:\n",
    "        clean = stripped.decode(\"utf-8-sig\").replace(u\"\\ufffd\", \"?\")\n",
    "    except:\n",
    "        clean = stripped\n",
    "    clean = clean.replace(\"'\",\"\")\n",
    "    letters_only = re.sub(\"[^a-zA-Z]\", \" \", clean)\n",
    "    lower_case = letters_only.lower()\n",
    "    \n",
    "    # tokenize and recombine to get rid of whitespaces\n",
    "    words = tok.tokenize(lower_case)\n",
    "    \n",
    "    return (\" \".join(words)).strip()"
   ]
  },
  {
   "cell_type": "code",
   "execution_count": 23,
   "metadata": {
    "ExecuteTime": {
     "end_time": "2021-12-17T14:15:53.778174Z",
     "start_time": "2021-12-17T14:15:13.808652Z"
    },
    "jupyter": {
     "outputs_hidden": true
    },
    "scrolled": true
   },
   "outputs": [
    {
     "name": "stderr",
     "output_type": "stream",
     "text": [
      "<ipython-input-23-a2e62b0646b8>:2: TqdmDeprecationWarning: This function will be removed in tqdm==5.0.0\n",
      "Please use `tqdm.notebook.tqdm` instead of `tqdm.tqdm_notebook`\n",
      "  for i in tqdm(data['text']):\n"
     ]
    },
    {
     "data": {
      "application/vnd.jupyter.widget-view+json": {
       "model_id": "89786757682f413181e95a3c3c6ffd88",
       "version_major": 2,
       "version_minor": 0
      },
      "text/plain": [
       "  0%|          | 0/182466 [00:00<?, ?it/s]"
      ]
     },
     "metadata": {},
     "output_type": "display_data"
    }
   ],
   "source": [
    "clean_text=[]\n",
    "for i in tqdm(data['text']):\n",
    "    clean_text.append(text_cleaner(i))"
   ]
  },
  {
   "cell_type": "code",
   "execution_count": 24,
   "metadata": {
    "ExecuteTime": {
     "end_time": "2021-12-17T14:15:53.802110Z",
     "start_time": "2021-12-17T14:15:53.779172Z"
    }
   },
   "outputs": [],
   "source": [
    "data['text']=clean_text"
   ]
  },
  {
   "cell_type": "code",
   "execution_count": null,
   "metadata": {},
   "outputs": [],
   "source": [
    "data.to_csv('../data/cleaned_data_bert_sentiment.csv')"
   ]
  },
  {
   "cell_type": "markdown",
   "metadata": {},
   "source": [
    "## Optional preload clean dataset"
   ]
  },
  {
   "cell_type": "code",
   "execution_count": 3,
   "metadata": {
    "ExecuteTime": {
     "end_time": "2021-12-14T18:33:35.098476Z",
     "start_time": "2021-12-14T18:33:34.902562Z"
    }
   },
   "outputs": [],
   "source": [
    "data = pd.read_csv('../data/cleaned_data_bert_sentiment.csv')\n",
    "data.drop('Unnamed: 0',axis=1,inplace=True)"
   ]
  },
  {
   "cell_type": "code",
   "execution_count": 140,
   "metadata": {
    "scrolled": true
   },
   "outputs": [
    {
     "data": {
      "text/html": [
       "<div>\n",
       "<style scoped>\n",
       "    .dataframe tbody tr th:only-of-type {\n",
       "        vertical-align: middle;\n",
       "    }\n",
       "\n",
       "    .dataframe tbody tr th {\n",
       "        vertical-align: top;\n",
       "    }\n",
       "\n",
       "    .dataframe thead th {\n",
       "        text-align: right;\n",
       "    }\n",
       "</style>\n",
       "<table border=\"1\" class=\"dataframe\">\n",
       "  <thead>\n",
       "    <tr style=\"text-align: right;\">\n",
       "      <th></th>\n",
       "      <th>text</th>\n",
       "      <th>sentiment</th>\n",
       "      <th>set</th>\n",
       "      <th>len</th>\n",
       "      <th>words</th>\n",
       "    </tr>\n",
       "  </thead>\n",
       "  <tbody>\n",
       "    <tr>\n",
       "      <th>0</th>\n",
       "      <td>what said</td>\n",
       "      <td>0.0</td>\n",
       "      <td>airline</td>\n",
       "      <td>9</td>\n",
       "      <td>2</td>\n",
       "    </tr>\n",
       "    <tr>\n",
       "      <th>1</th>\n",
       "      <td>plus youve added commercials to the experience...</td>\n",
       "      <td>1.0</td>\n",
       "      <td>airline</td>\n",
       "      <td>52</td>\n",
       "      <td>8</td>\n",
       "    </tr>\n",
       "    <tr>\n",
       "      <th>2</th>\n",
       "      <td>i didnt today must mean i need to take another...</td>\n",
       "      <td>0.0</td>\n",
       "      <td>airline</td>\n",
       "      <td>51</td>\n",
       "      <td>11</td>\n",
       "    </tr>\n",
       "    <tr>\n",
       "      <th>3</th>\n",
       "      <td>its really aggressive to blast obnoxious enter...</td>\n",
       "      <td>-1.0</td>\n",
       "      <td>airline</td>\n",
       "      <td>101</td>\n",
       "      <td>15</td>\n",
       "    </tr>\n",
       "    <tr>\n",
       "      <th>4</th>\n",
       "      <td>and its a really big bad thing about it</td>\n",
       "      <td>-1.0</td>\n",
       "      <td>airline</td>\n",
       "      <td>39</td>\n",
       "      <td>9</td>\n",
       "    </tr>\n",
       "  </tbody>\n",
       "</table>\n",
       "</div>"
      ],
      "text/plain": [
       "                                                text  sentiment      set  len  \\\n",
       "0                                          what said        0.0  airline    9   \n",
       "1  plus youve added commercials to the experience...        1.0  airline   52   \n",
       "2  i didnt today must mean i need to take another...        0.0  airline   51   \n",
       "3  its really aggressive to blast obnoxious enter...       -1.0  airline  101   \n",
       "4            and its a really big bad thing about it       -1.0  airline   39   \n",
       "\n",
       "   words  \n",
       "0      2  \n",
       "1      8  \n",
       "2     11  \n",
       "3     15  \n",
       "4      9  "
      ]
     },
     "execution_count": 140,
     "metadata": {},
     "output_type": "execute_result"
    }
   ],
   "source": [
    "data.head()"
   ]
  },
  {
   "cell_type": "markdown",
   "metadata": {},
   "source": [
    "## Eliminate rows that have less than 3 characters"
   ]
  },
  {
   "cell_type": "code",
   "execution_count": 25,
   "metadata": {
    "ExecuteTime": {
     "end_time": "2021-12-17T14:15:53.856998Z",
     "start_time": "2021-12-17T14:15:53.804107Z"
    }
   },
   "outputs": [],
   "source": [
    "data.dropna(inplace=True)"
   ]
  },
  {
   "cell_type": "code",
   "execution_count": 26,
   "metadata": {
    "ExecuteTime": {
     "end_time": "2021-12-17T14:15:53.910821Z",
     "start_time": "2021-12-17T14:15:53.857962Z"
    }
   },
   "outputs": [],
   "source": [
    "data['len'] = data['text'].apply(len)"
   ]
  },
  {
   "cell_type": "code",
   "execution_count": 27,
   "metadata": {
    "ExecuteTime": {
     "end_time": "2021-12-17T14:15:54.177468Z",
     "start_time": "2021-12-17T14:15:53.911816Z"
    }
   },
   "outputs": [],
   "source": [
    "data['words'] = data['text'].apply(lambda x: len(x.split()))"
   ]
  },
  {
   "cell_type": "code",
   "execution_count": 28,
   "metadata": {
    "ExecuteTime": {
     "end_time": "2021-12-17T14:15:54.235361Z",
     "start_time": "2021-12-17T14:15:54.179465Z"
    }
   },
   "outputs": [],
   "source": [
    "data.drop(data[data['len']<=3].index,inplace=True)"
   ]
  },
  {
   "cell_type": "code",
   "execution_count": 29,
   "metadata": {
    "ExecuteTime": {
     "end_time": "2021-12-17T14:15:54.238308Z",
     "start_time": "2021-12-17T14:15:54.236310Z"
    }
   },
   "outputs": [],
   "source": [
    "data.reset_index(drop=True,inplace=True)"
   ]
  },
  {
   "cell_type": "markdown",
   "metadata": {},
   "source": [
    "# Bert Using simpletransformers"
   ]
  },
  {
   "cell_type": "code",
   "execution_count": 31,
   "metadata": {
    "ExecuteTime": {
     "end_time": "2021-12-17T14:17:41.155328Z",
     "start_time": "2021-12-17T14:17:40.752270Z"
    }
   },
   "outputs": [],
   "source": [
    "import re\n",
    "import unicodedata\n",
    "import multiprocessing\n",
    "import emoji\n",
    "import sys\n",
    "\n",
    "CUSTOM_TABLE = str.maketrans(\n",
    "    {\n",
    "        \"\\xad\": None,\n",
    "        \"\\x7f\": None,\n",
    "        \"\\ufeff\": None,\n",
    "        \"\\u200b\": None,\n",
    "        \"\\u200e\": None,\n",
    "        \"\\u202a\": None,\n",
    "        \"\\u202c\": None,\n",
    "        \"‘\": \"'\",\n",
    "        \"’\": \"'\",\n",
    "        \"`\": \"'\",\n",
    "        \"“\": '\"',\n",
    "        \"”\": '\"',\n",
    "        \"«\": '\"',\n",
    "        \"»\": '\"',\n",
    "        \"ɢ\": \"G\",\n",
    "        \"ɪ\": \"I\",\n",
    "        \"ɴ\": \"N\",\n",
    "        \"ʀ\": \"R\",\n",
    "        \"ʏ\": \"Y\",\n",
    "        \"ʙ\": \"B\",\n",
    "        \"ʜ\": \"H\",\n",
    "        \"ʟ\": \"L\",\n",
    "        \"ғ\": \"F\",\n",
    "        \"ᴀ\": \"A\",\n",
    "        \"ᴄ\": \"C\",\n",
    "        \"ᴅ\": \"D\",\n",
    "        \"ᴇ\": \"E\",\n",
    "        \"ᴊ\": \"J\",\n",
    "        \"ᴋ\": \"K\",\n",
    "        \"ᴍ\": \"M\",\n",
    "        \"Μ\": \"M\",\n",
    "        \"ᴏ\": \"O\",\n",
    "        \"ᴘ\": \"P\",\n",
    "        \"ᴛ\": \"T\",\n",
    "        \"ᴜ\": \"U\",\n",
    "        \"ᴡ\": \"W\",\n",
    "        \"ᴠ\": \"V\",\n",
    "        \"ĸ\": \"K\",\n",
    "        \"в\": \"B\",\n",
    "        \"м\": \"M\",\n",
    "        \"н\": \"H\",\n",
    "        \"т\": \"T\",\n",
    "        \"ѕ\": \"S\",\n",
    "        \"—\": \"-\",\n",
    "        \"–\": \"-\",\n",
    "    }\n",
    ")\n",
    "\n",
    "WORDS_REPLACER =[ \n",
    "    (\"aren't\" , \"are not\"),\n",
    "    (\"can't\" , \"cannot\"),\n",
    "    (\"couldn't\" , \"could not\"),\n",
    "    (\"couldnt\" , \"could not\"),\n",
    "    (\"didn't\" , \"did not\"),\n",
    "    (\"doesn't\" , \"does not\"),\n",
    "    (\"doesnt\" , \"does not\"),\n",
    "    (\"don't\" , \"do not\"),\n",
    "    (\"hadn't\" , \"had not\"),\n",
    "    (\"hasn't\" , \"has not\"),\n",
    "    (\"haven't\" , \"have not\"),\n",
    "    (\"havent\" , \"have not\"),\n",
    "    (\"he'd\" , \"he would\"),\n",
    "    (\"he'll\" , \"he will\"),\n",
    "    (\"he's\" , \"he is\"),\n",
    "    (\"i'd\" , \"I would\"),\n",
    "    (\"i'd\" , \"I had\"),\n",
    "    (\"i'll\" , \"I will\"),\n",
    "    (\"i'm\" , \"I am\"),\n",
    "    (\"isn't\" , \"is not\"),\n",
    "    (\"it's\" , \"it is\"),\n",
    "    (\"it'll\",\"it will\"),\n",
    "    (\"i've\" , \"I have\"),\n",
    "    (\"let's\" , \"let us\"),\n",
    "    (\"mightn't\" , \"might not\"),\n",
    "    (\"mustn't\" , \"must not\"),\n",
    "    (\"shan't\" , \"shall not\"),\n",
    "    (\"she'd\" , \"she would\"),\n",
    "    (\"she'll\" , \"she will\"),\n",
    "    (\"she's\" , \"she is\"),\n",
    "    (\"shouldn't\" , \"should not\"),\n",
    "    (\"shouldnt\" , \"should not\"),\n",
    "    (\"that's\" , \"that is\"),\n",
    "    (\"thats\" , \"that is\"),\n",
    "    (\"there's\" , \"there is\"),\n",
    "    (\"theres\" , \"there is\"),\n",
    "    (\"they'd\" , \"they would\"),\n",
    "    (\"they'll\" , \"they will\"),\n",
    "    (\"they're\" , \"they are\"),\n",
    "    (\"theyre\",  \"they are\"),\n",
    "    (\"they've\" , \"they have\"),\n",
    "    (\"we'd\" , \"we would\"),\n",
    "    (\"we're\" , \"we are\"),\n",
    "    (\"weren't\" , \"were not\"),\n",
    "    (\"we've\" , \"we have\"),\n",
    "    (\"what'll\" , \"what will\"),\n",
    "    (\"what're\" , \"what are\"),\n",
    "    (\"what's\" , \"what is\"),\n",
    "    (\"what've\" , \"what have\"),\n",
    "    (\"where's\" , \"where is\"),\n",
    "    (\"who'd\" , \"who would\"),\n",
    "    (\"who'll\" , \"who will\"),\n",
    "    (\"who're\" , \"who are\"),\n",
    "    (\"who's\" , \"who is\"),\n",
    "    (\"who've\" , \"who have\"),\n",
    "    (\"won't\" , \"will not\"),\n",
    "    (\"wouldn't\" , \"would not\"),\n",
    "    (\"you'd\" , \"you would\"),\n",
    "    (\"you'll\" , \"you will\"),\n",
    "    (\"you're\" , \"you are\"),\n",
    "    (\"you've\" , \"you have\"),\n",
    "    (\"'re\", \" are\"),\n",
    "    (\"wasn't\", \"was not\"),\n",
    "    (\"we'll\",\" will\"),\n",
    "    (\"didn't\", \"did not\"),\n",
    "    (\"tryin'\",\"trying\")\n",
    "]\n",
    "\n",
    "\n",
    "\n",
    "REGEX_REPLACER = [\n",
    "    (re.compile(pat.replace(\"*\", \"\\*\"), flags=re.IGNORECASE), repl)\n",
    "    for pat, repl in WORDS_REPLACER\n",
    "]\n",
    "\n",
    "RE_SPACE = re.compile(r\"\\s\")\n",
    "RE_MULTI_SPACE = re.compile(r\"\\s+\")\n",
    "\n",
    "NMS_TABLE = dict.fromkeys(\n",
    "    i for i in range(sys.maxunicode + 1) if unicodedata.category(chr(i)) == \"Mn\"\n",
    ")\n",
    "\n",
    "HEBREW_TABLE = {i: \"א\" for i in range(0x0590, 0x05FF)}\n",
    "ARABIC_TABLE = {i: \"ا\" for i in range(0x0600, 0x06FF)}\n",
    "CHINESE_TABLE = {i: \"是\" for i in range(0x4E00, 0x9FFF)}\n",
    "KANJI_TABLE = {i: \"ッ\" for i in range(0x2E80, 0x2FD5)}\n",
    "HIRAGANA_TABLE = {i: \"ッ\" for i in range(0x3041, 0x3096)}\n",
    "KATAKANA_TABLE = {i: \"ッ\" for i in range(0x30A0, 0x30FF)}\n",
    "\n",
    "TABLE = dict()\n",
    "TABLE.update(CUSTOM_TABLE)\n",
    "TABLE.update(NMS_TABLE)\n",
    "# Non-english languages\n",
    "TABLE.update(CHINESE_TABLE)\n",
    "TABLE.update(HEBREW_TABLE)\n",
    "TABLE.update(ARABIC_TABLE)\n",
    "TABLE.update(HIRAGANA_TABLE)\n",
    "TABLE.update(KATAKANA_TABLE)\n",
    "TABLE.update(KANJI_TABLE)\n",
    "\n",
    "\n",
    "EMOJI_REGEXP = emoji.get_emoji_regexp()\n",
    "\n",
    "UNICODE_EMOJI_MY = {\n",
    "    k: f\" EMJ {v.strip(':').replace('_', ' ')} \"\n",
    "    for k, v in emoji.UNICODE_EMOJI_ALIAS_ENGLISH.items()\n",
    "}\n",
    "\n",
    "\n",
    "def my_demojize(string: str) -> str:\n",
    "    def replace(match):\n",
    "        return UNICODE_EMOJI_MY.get(match.group(0), match.group(0))\n",
    "\n",
    "    return re.sub(\"\\ufe0f\", \"\", EMOJI_REGEXP.sub(replace, string))\n",
    "\n",
    "\n",
    "def normalize(text: str) -> str:\n",
    "    text = my_demojize(text)\n",
    "\n",
    "    text = RE_SPACE.sub(\" \", text)\n",
    "    text = unicodedata.normalize(\"NFKD\", text)\n",
    "    text = text.translate(TABLE)\n",
    "    text = RE_MULTI_SPACE.sub(\" \", text).strip()\n",
    "\n",
    "    for pattern, repl in REGEX_REPLACER:\n",
    "        text = pattern.sub(repl, text)\n",
    "\n",
    "    return text\n"
   ]
  },
  {
   "cell_type": "code",
   "execution_count": 32,
   "metadata": {
    "ExecuteTime": {
     "end_time": "2021-12-17T14:20:29.555917Z",
     "start_time": "2021-12-17T14:17:42.816612Z"
    }
   },
   "outputs": [],
   "source": [
    "data['text'] = data['text'].apply(normalize)"
   ]
  },
  {
   "cell_type": "code",
   "execution_count": 33,
   "metadata": {
    "ExecuteTime": {
     "end_time": "2021-12-17T14:20:29.566845Z",
     "start_time": "2021-12-17T14:20:29.557870Z"
    }
   },
   "outputs": [],
   "source": [
    "data['sentiment'] = pd.Categorical(data['sentiment'])\n",
    "data['sentiment'] = data.sentiment.cat.codes"
   ]
  },
  {
   "cell_type": "code",
   "execution_count": 34,
   "metadata": {
    "ExecuteTime": {
     "end_time": "2021-12-17T14:20:29.575821Z",
     "start_time": "2021-12-17T14:20:29.568840Z"
    }
   },
   "outputs": [
    {
     "data": {
      "text/plain": [
       "array([1, 2, 0], dtype=int8)"
      ]
     },
     "execution_count": 34,
     "metadata": {},
     "output_type": "execute_result"
    }
   ],
   "source": [
    "data.sentiment.unique()"
   ]
  },
  {
   "cell_type": "code",
   "execution_count": 35,
   "metadata": {
    "ExecuteTime": {
     "end_time": "2021-12-17T14:20:29.580808Z",
     "start_time": "2021-12-17T14:20:29.576819Z"
    }
   },
   "outputs": [],
   "source": [
    "splitter = StratifiedShuffleSplit(n_splits=1,test_size=0.2,random_state=2020)"
   ]
  },
  {
   "cell_type": "code",
   "execution_count": 36,
   "metadata": {
    "ExecuteTime": {
     "end_time": "2021-12-17T14:20:29.678546Z",
     "start_time": "2021-12-17T14:20:29.581805Z"
    }
   },
   "outputs": [],
   "source": [
    "for train_ind, test_ind in splitter.split(data['text'],data['sentiment']):\n",
    "    x_train = data['text'].iloc[train_ind]\n",
    "    x_test = data['text'].iloc[test_ind]\n",
    "    \n",
    "    y_train = data['sentiment'].iloc[train_ind]\n",
    "    y_test = data['sentiment'].iloc[test_ind]"
   ]
  },
  {
   "cell_type": "code",
   "execution_count": 37,
   "metadata": {
    "ExecuteTime": {
     "end_time": "2021-12-17T14:20:29.716477Z",
     "start_time": "2021-12-17T14:20:29.679543Z"
    }
   },
   "outputs": [],
   "source": [
    "bert_train_df=pd.DataFrame(columns=['text','label'])\n",
    "bert_train_df['text']=x_train\n",
    "bert_train_df['label']=y_train\n",
    "\n",
    "bert_test_df=pd.DataFrame(columns=['text','label'])\n",
    "bert_test_df['text']=x_test\n",
    "bert_test_df['label']=y_test"
   ]
  },
  {
   "cell_type": "code",
   "execution_count": 38,
   "metadata": {
    "ExecuteTime": {
     "end_time": "2021-12-17T14:20:29.948870Z",
     "start_time": "2021-12-17T14:20:29.717442Z"
    }
   },
   "outputs": [],
   "source": [
    "bert_train_df.reset_index(inplace=True,drop=True)\n",
    "bert_train_df.to_feather('../data/bert_train_sentiment.ftr')\n",
    "\n",
    "bert_test_df.reset_index(inplace=True,drop=True)\n",
    "bert_test_df.to_feather('../data/bert_test_sentiment.ftr')"
   ]
  },
  {
   "cell_type": "markdown",
   "metadata": {},
   "source": [
    "**Reload data here**"
   ]
  },
  {
   "cell_type": "code",
   "execution_count": 5,
   "metadata": {
    "ExecuteTime": {
     "end_time": "2021-12-17T14:30:32.519255Z",
     "start_time": "2021-12-17T14:30:32.342961Z"
    }
   },
   "outputs": [],
   "source": [
    "bert_train_df=pd.read_feather('./../data/bert_train_sentiment.ftr')\n",
    "bert_test_df=pd.read_feather('./../data/bert_test_sentiment.ftr')"
   ]
  },
  {
   "cell_type": "code",
   "execution_count": 6,
   "metadata": {
    "ExecuteTime": {
     "end_time": "2021-12-17T14:30:40.405324Z",
     "start_time": "2021-12-17T14:30:33.069499Z"
    },
    "scrolled": true
   },
   "outputs": [
    {
     "name": "stderr",
     "output_type": "stream",
     "text": [
      "Some weights of the model checkpoint at roberta-base were not used when initializing RobertaForSequenceClassification: ['lm_head.bias', 'lm_head.dense.weight', 'lm_head.dense.bias', 'lm_head.layer_norm.weight', 'lm_head.layer_norm.bias', 'lm_head.decoder.weight']\n",
      "- This IS expected if you are initializing RobertaForSequenceClassification from the checkpoint of a model trained on another task or with another architecture (e.g. initializing a BertForSequenceClassification model from a BertForPreTraining model).\n",
      "- This IS NOT expected if you are initializing RobertaForSequenceClassification from the checkpoint of a model that you expect to be exactly identical (initializing a BertForSequenceClassification model from a BertForSequenceClassification model).\n",
      "Some weights of RobertaForSequenceClassification were not initialized from the model checkpoint at roberta-base and are newly initialized: ['classifier.dense.weight', 'classifier.dense.bias', 'classifier.out_proj.weight', 'classifier.out_proj.bias']\n",
      "You should probably TRAIN this model on a down-stream task to be able to use it for predictions and inference.\n"
     ]
    }
   ],
   "source": [
    "model = ClassificationModel('roberta', 'roberta-base', num_labels=bert_train_df['label'].nunique())"
   ]
  },
  {
   "cell_type": "code",
   "execution_count": 7,
   "metadata": {
    "ExecuteTime": {
     "end_time": "2021-12-17T14:30:40.409812Z",
     "start_time": "2021-12-17T14:30:40.405324Z"
    }
   },
   "outputs": [],
   "source": [
    "torch.cuda.empty_cache()"
   ]
  },
  {
   "cell_type": "code",
   "execution_count": 8,
   "metadata": {
    "ExecuteTime": {
     "end_time": "2021-12-17T16:03:55.022423Z",
     "start_time": "2021-12-17T14:31:08.355499Z"
    },
    "scrolled": true
   },
   "outputs": [
    {
     "name": "stderr",
     "output_type": "stream",
     "text": [
      "C:\\Anaconda3\\envs\\pytorch\\lib\\site-packages\\simpletransformers\\classification\\classification_model.py:445: UserWarning: Dataframe headers not specified. Falling back to using column 0 as text and column 1 as labels.\n",
      "  warnings.warn(\n"
     ]
    },
    {
     "data": {
      "application/vnd.jupyter.widget-view+json": {
       "model_id": "5169d1718a4f4c418426b1ae9ce448e4",
       "version_major": 2,
       "version_minor": 0
      },
      "text/plain": [
       "  0%|          | 0/21 [00:00<?, ?it/s]"
      ]
     },
     "metadata": {},
     "output_type": "display_data"
    },
    {
     "data": {
      "application/vnd.jupyter.widget-view+json": {
       "model_id": "40373906169042c684ca8a0bbca979b9",
       "version_major": 2,
       "version_minor": 0
      },
      "text/plain": [
       "Epoch:   0%|          | 0/2 [00:00<?, ?it/s]"
      ]
     },
     "metadata": {},
     "output_type": "display_data"
    },
    {
     "data": {
      "application/vnd.jupyter.widget-view+json": {
       "model_id": "7c6375d2f1db4e6cbe656b4f35c4dd5e",
       "version_major": 2,
       "version_minor": 0
      },
      "text/plain": [
       "Running Epoch 0 of 2:   0%|          | 0/4561 [00:00<?, ?it/s]"
      ]
     },
     "metadata": {},
     "output_type": "display_data"
    },
    {
     "name": "stderr",
     "output_type": "stream",
     "text": [
      "C:\\Anaconda3\\envs\\pytorch\\lib\\site-packages\\torch\\optim\\lr_scheduler.py:216: UserWarning: Please also save or load the state of the optimizer when saving or loading the scheduler.\n",
      "  warnings.warn(SAVE_STATE_WARNING, UserWarning)\n"
     ]
    },
    {
     "data": {
      "application/vnd.jupyter.widget-view+json": {
       "model_id": "917dbd41af104de4b3fac06c99070bc1",
       "version_major": 2,
       "version_minor": 0
      },
      "text/plain": [
       "Running Epoch 1 of 2:   0%|          | 0/4561 [00:00<?, ?it/s]"
      ]
     },
     "metadata": {},
     "output_type": "display_data"
    },
    {
     "data": {
      "text/plain": [
       "(9122, 0.2297732650091879)"
      ]
     },
     "execution_count": 8,
     "metadata": {},
     "output_type": "execute_result"
    }
   ],
   "source": [
    "model.train_model(bert_train_df, args={'fp16': False, 'num_train_epochs': 2, 'reprocess_input_data': True, 'overwrite_output_dir': True, 'dataloader_num_workers':0, 'train_batch_size':32})"
   ]
  },
  {
   "cell_type": "code",
   "execution_count": 10,
   "metadata": {
    "ExecuteTime": {
     "end_time": "2021-12-17T17:51:04.535567Z",
     "start_time": "2021-12-17T17:46:47.250770Z"
    }
   },
   "outputs": [
    {
     "name": "stderr",
     "output_type": "stream",
     "text": [
      "C:\\Anaconda3\\envs\\pytorch\\lib\\site-packages\\simpletransformers\\classification\\classification_model.py:1025: UserWarning: Dataframe headers not specified. Falling back to using column 0 as text and column 1 as labels.\n",
      "  warnings.warn(\n"
     ]
    },
    {
     "data": {
      "application/vnd.jupyter.widget-view+json": {
       "model_id": "c6a7e3798203494d9c229e0b64ff5f08",
       "version_major": 2,
       "version_minor": 0
      },
      "text/plain": [
       "Running Evaluation:   0%|          | 0/4561 [00:00<?, ?it/s]"
      ]
     },
     "metadata": {},
     "output_type": "display_data"
    }
   ],
   "source": [
    "def f1_multiclass(labels, preds):\n",
    "    return f1_score(labels, preds, average='micro')\n",
    "    \n",
    "result, model_outputs, wrong_predictions = model.eval_model(bert_test_df, f1=f1_multiclass, acc=accuracy_score)"
   ]
  },
  {
   "cell_type": "code",
   "execution_count": 11,
   "metadata": {
    "ExecuteTime": {
     "end_time": "2021-12-17T17:51:04.548151Z",
     "start_time": "2021-12-17T17:51:04.535567Z"
    }
   },
   "outputs": [
    {
     "data": {
      "text/plain": [
       "{'mcc': 0.939903324196748,\n",
       " 'f1': 0.9607773270474729,\n",
       " 'acc': 0.9607773270474729,\n",
       " 'eval_loss': 0.13835199280416902}"
      ]
     },
     "execution_count": 11,
     "metadata": {},
     "output_type": "execute_result"
    }
   ],
   "source": [
    "result"
   ]
  },
  {
   "cell_type": "markdown",
   "metadata": {},
   "source": [
    "# Tensorlfow Implementation"
   ]
  },
  {
   "cell_type": "markdown",
   "metadata": {},
   "source": [
    "## Save dataset to load as tensorflow dataset"
   ]
  },
  {
   "cell_type": "code",
   "execution_count": 144,
   "metadata": {},
   "outputs": [],
   "source": [
    "file_label_pairs = [('positive.txt',1),('negative.txt',-1),('neutral.txt',0)]\n",
    "\n",
    "for file,label in file_label_pairs:\n",
    "    with open('../data/'+file, \"w\") as my_output_file:\n",
    "            [ my_output_file.write(text+'\\n') for text in data[data['sentiment']==label]['text'].values]\n",
    "    my_output_file.close()"
   ]
  },
  {
   "cell_type": "code",
   "execution_count": 145,
   "metadata": {
    "scrolled": true
   },
   "outputs": [],
   "source": [
    "def labeler(example, index):\n",
    "    return example, tf.cast(index, tf.int64)\n",
    "\n",
    "labeled_data_sets = []\n",
    "\n",
    "for i, file_name in enumerate(['../data/positive.txt','../data/negative.txt']):\n",
    "    lines_dataset = tf.data.TextLineDataset(str(file_name))\n",
    "    labeled_dataset = lines_dataset.map(lambda ex: labeler(ex, i))\n",
    "    labeled_data_sets.append(labeled_dataset)"
   ]
  },
  {
   "cell_type": "code",
   "execution_count": 146,
   "metadata": {},
   "outputs": [],
   "source": [
    "BUFFER_SIZE = 50000\n",
    "BATCH_SIZE = 128\n",
    "TRAIN_SIZE = int(data.shape[0]*0.8)\n",
    "VALIDATION_SIZE = int(data.shape[0]*0.1)\n",
    "TEST_SIZE = data.shape[0]-(TRAIN_SIZE + VALIDATION_SIZE)"
   ]
  },
  {
   "cell_type": "code",
   "execution_count": 147,
   "metadata": {},
   "outputs": [],
   "source": [
    "all_labeled_data = labeled_data_sets[0]\n",
    "for labeled_dataset in labeled_data_sets[1:]:\n",
    "    all_labeled_data = all_labeled_data.concatenate(labeled_dataset)\n",
    "\n",
    "all_labeled_data = all_labeled_data.shuffle(\n",
    "    BUFFER_SIZE, reshuffle_each_iteration=False)"
   ]
  },
  {
   "cell_type": "code",
   "execution_count": 148,
   "metadata": {
    "scrolled": true
   },
   "outputs": [
    {
     "name": "stdout",
     "output_type": "stream",
     "text": [
      "Sentence:  b'yogi one kids modi one kids advani one kids togadia one kids bal thackeray one kids but muslims produce too many children'\n",
      "Label: 0\n",
      "Sentence:  b'the idea bjp keep you busy throughout election time with low level people like that you can not concentrate real issues which exposes modi govt therefore please conc putting real issues front people thank'\n",
      "Label: 0\n",
      "Sentence:  b'wow never knew this was possible kudos the scientist and technicians who were involved this project hail modi more power and godspeed hiss achievements'\n",
      "Label: 0\n",
      "Sentence:  b'the person under whom npa was the highest and couldnt detect scam loans given mallya and nirav modi should per you awesome'\n",
      "Label: 0\n",
      "Sentence:  b'who was responsible modi thought its drdo'\n",
      "Label: 0\n",
      "Sentence:  b'proud our narendra modi'\n",
      "Label: 0\n",
      "Sentence:  b'yeah haha never been in one its expensive and we will so much fun destinationdragons'\n",
      "Label: 0\n",
      "Sentence:  b'modi transforming india this video needs super viral please spread this ahead'\n",
      "Label: 0\n",
      "Sentence:  b'quality leadership matters for nation modi has bold character take strong decisions and proved once again great achievement'\n",
      "Label: 0\n",
      "Sentence:  b'more they abuse chowkidar more votes modi will get thanks them'\n",
      "Label: 0\n"
     ]
    }
   ],
   "source": [
    "for text, label in all_labeled_data.take(10):\n",
    "    print(\"Sentence: \", text.numpy())\n",
    "    print(\"Label:\", label.numpy())"
   ]
  },
  {
   "cell_type": "markdown",
   "metadata": {},
   "source": [
    "## Split into train val and test"
   ]
  },
  {
   "cell_type": "code",
   "execution_count": 149,
   "metadata": {},
   "outputs": [],
   "source": [
    "train_dataset = all_labeled_data.take(TRAIN_SIZE)\n",
    "test_dataset = all_labeled_data.skip(TRAIN_SIZE)\n",
    "val_dataset = test_dataset.skip(VALIDATION_SIZE)\n",
    "test_dataset = test_dataset.take(TEST_SIZE)"
   ]
  },
  {
   "cell_type": "code",
   "execution_count": 150,
   "metadata": {},
   "outputs": [],
   "source": [
    "train_dataset = train_dataset.batch(BATCH_SIZE)\n",
    "val_dataset = val_dataset.batch(BATCH_SIZE)\n",
    "test_dataset = test_dataset.batch(BATCH_SIZE)"
   ]
  },
  {
   "cell_type": "markdown",
   "metadata": {},
   "source": [
    "## Load bert preprocessor and model"
   ]
  },
  {
   "cell_type": "code",
   "execution_count": 151,
   "metadata": {},
   "outputs": [],
   "source": [
    "tfhub_handle_encoder = 'https://tfhub.dev/tensorflow/small_bert/bert_en_uncased_L-2_H-512_A-8/1'\n",
    "tfhub_handle_preprocess = 'https://tfhub.dev/tensorflow/bert_en_uncased_preprocess/3'"
   ]
  },
  {
   "cell_type": "code",
   "execution_count": 152,
   "metadata": {},
   "outputs": [],
   "source": [
    "bert_preprocess_model = hub.KerasLayer(tfhub_handle_preprocess)"
   ]
  },
  {
   "cell_type": "code",
   "execution_count": 153,
   "metadata": {},
   "outputs": [],
   "source": [
    "bert_model = hub.KerasLayer(tfhub_handle_encoder)"
   ]
  },
  {
   "cell_type": "code",
   "execution_count": 154,
   "metadata": {},
   "outputs": [],
   "source": [
    "def build_bert_classifier():\n",
    "    text_input = tf.keras.layers.Input(shape=(), dtype=tf.string, name='text')\n",
    "    preprocessing_layer = hub.KerasLayer(tfhub_handle_preprocess, name='preprocessing')\n",
    "    encoder_inputs = preprocessing_layer(text_input)\n",
    "    encoder = hub.KerasLayer(tfhub_handle_encoder, trainable=True, name='bert_encoder')\n",
    "    outputs = encoder(encoder_inputs)\n",
    "    x = outputs['pooled_output']\n",
    "    x = tf.keras.layers.Dropout(0.1)(x)\n",
    "    output = tf.keras.layers.Dense(1, activation=None, name='classifier')(x)\n",
    "    return tf.keras.Model(text_input, output)"
   ]
  },
  {
   "cell_type": "markdown",
   "metadata": {},
   "source": [
    "## Define model and train on the data"
   ]
  },
  {
   "cell_type": "code",
   "execution_count": 155,
   "metadata": {},
   "outputs": [],
   "source": [
    "model = build_bert_classifier()"
   ]
  },
  {
   "cell_type": "code",
   "execution_count": 156,
   "metadata": {},
   "outputs": [
    {
     "name": "stdout",
     "output_type": "stream",
     "text": [
      "('You must install pydot (`pip install pydot`) and install graphviz (see instructions at https://graphviz.gitlab.io/download/) ', 'for plot_model/model_to_dot to work.')\n"
     ]
    }
   ],
   "source": [
    "tf.keras.utils.plot_model(model)"
   ]
  },
  {
   "cell_type": "code",
   "execution_count": 157,
   "metadata": {},
   "outputs": [],
   "source": [
    "loss = tf.keras.losses.BinaryCrossentropy()\n",
    "metrics = tf.keras.metrics.BinaryAccuracy()"
   ]
  },
  {
   "cell_type": "code",
   "execution_count": 158,
   "metadata": {},
   "outputs": [],
   "source": [
    "epochs = 3\n",
    "num_batches = int(TRAIN_SIZE/BATCH_SIZE)\n",
    "num_train_steps = num_batches * epochs\n",
    "num_warmup_steps = int(0.1*num_train_steps)"
   ]
  },
  {
   "cell_type": "code",
   "execution_count": 159,
   "metadata": {},
   "outputs": [],
   "source": [
    "init_lr=3e-5\n",
    "optimizer = optimization.create_optimizer(init_lr=init_lr,\n",
    "                                          num_train_steps=num_train_steps,\n",
    "                                          num_warmup_steps=num_warmup_steps,\n",
    "                                          optimizer_type='adamw')\n",
    "model.compile(optimizer=optimizer, loss=loss, metrics=metrics)"
   ]
  },
  {
   "cell_type": "code",
   "execution_count": 160,
   "metadata": {},
   "outputs": [
    {
     "name": "stdout",
     "output_type": "stream",
     "text": [
      "Epoch 1/3\n",
      "948/948 [==============================] - 585s 613ms/step - loss: 1.2950 - binary_accuracy: 0.8093\n",
      "Epoch 2/3\n",
      "948/948 [==============================] - 575s 606ms/step - loss: 0.8120 - binary_accuracy: 0.8899\n",
      "Epoch 3/3\n",
      "948/948 [==============================] - 571s 602ms/step - loss: 0.5073 - binary_accuracy: 0.9204\n"
     ]
    }
   ],
   "source": [
    "history = model.fit(x=train_dataset,\n",
    "                    validation_data=val_dataset,\n",
    "                    epochs=epochs)"
   ]
  },
  {
   "cell_type": "code",
   "execution_count": null,
   "metadata": {},
   "outputs": [],
   "source": []
  },
  {
   "cell_type": "code",
   "execution_count": null,
   "metadata": {},
   "outputs": [],
   "source": []
  }
 ],
 "metadata": {
  "kernelspec": {
   "display_name": "Python 3",
   "language": "python",
   "name": "python3"
  },
  "language_info": {
   "codemirror_mode": {
    "name": "ipython",
    "version": 3
   },
   "file_extension": ".py",
   "mimetype": "text/x-python",
   "name": "python",
   "nbconvert_exporter": "python",
   "pygments_lexer": "ipython3",
   "version": "3.8.5"
  },
  "toc": {
   "base_numbering": 1,
   "nav_menu": {},
   "number_sections": true,
   "sideBar": true,
   "skip_h1_title": false,
   "title_cell": "Table of Contents",
   "title_sidebar": "Contents",
   "toc_cell": false,
   "toc_position": {},
   "toc_section_display": true,
   "toc_window_display": true
  }
 },
 "nbformat": 4,
 "nbformat_minor": 4
}
